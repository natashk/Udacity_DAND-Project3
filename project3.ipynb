{
 "cells": [
  {
   "cell_type": "markdown",
   "metadata": {},
   "source": [
    "# Project: Investigate IMDB dataset.\n",
    "\n",
    "## Table of Contents\n",
    "<ul>\n",
    "<li><a href=\"#intro\">Introduction</a></li>\n",
    "<li><a href=\"#wrangling\">Data Wrangling</a></li>\n",
    "<li><a href=\"#eda\">Exploratory Data Analysis</a></li>\n",
    "<li><a href=\"#conclusions\">Conclusions</a></li>\n",
    "</ul>"
   ]
  },
  {
   "cell_type": "markdown",
   "metadata": {},
   "source": [
    "<a id='intro'></a>\n",
    "## Introduction"
   ]
  },
  {
   "cell_type": "markdown",
   "metadata": {},
   "source": [
    "I chose the IMDB movies dataset.\n",
    "\n",
    "I want to analyze rating and genres of the movies in this dataset.  \n",
    "I am going to explore following questions:\n",
    "- Are long or short movies get higher user rating?\n",
    "- Are old or new movies get higher user rating?\n",
    "- What genres are the most popular in this dataset?\n",
    "- What genres are getting higher rating?"
   ]
  },
  {
   "cell_type": "code",
   "execution_count": 1,
   "metadata": {},
   "outputs": [],
   "source": [
    "# import all the packages that I plan to use.\n",
    "\n",
    "import pandas as pd\n",
    "import numpy as np\n",
    "import matplotlib.pyplot as plt\n",
    "\n",
    "%matplotlib inline"
   ]
  },
  {
   "cell_type": "markdown",
   "metadata": {},
   "source": [
    "<a id='wrangling'></a>\n",
    "## Data Wrangling\n",
    "\n",
    "### General Properties"
   ]
  },
  {
   "cell_type": "markdown",
   "metadata": {},
   "source": [
    "First, we need to load data.\n",
    "Then we need to inspect data:\n",
    "- what kind of values are there, how are they stored?\n",
    "- what data types are the values?\n",
    "- are there missing values?\n",
    "- are there duplicates?"
   ]
  },
  {
   "cell_type": "code",
   "execution_count": 2,
   "metadata": {},
   "outputs": [
    {
     "data": {
      "text/html": [
       "<div>\n",
       "<style scoped>\n",
       "    .dataframe tbody tr th:only-of-type {\n",
       "        vertical-align: middle;\n",
       "    }\n",
       "\n",
       "    .dataframe tbody tr th {\n",
       "        vertical-align: top;\n",
       "    }\n",
       "\n",
       "    .dataframe thead th {\n",
       "        text-align: right;\n",
       "    }\n",
       "</style>\n",
       "<table border=\"1\" class=\"dataframe\">\n",
       "  <thead>\n",
       "    <tr style=\"text-align: right;\">\n",
       "      <th></th>\n",
       "      <th>id</th>\n",
       "      <th>imdb_id</th>\n",
       "      <th>popularity</th>\n",
       "      <th>budget</th>\n",
       "      <th>revenue</th>\n",
       "      <th>original_title</th>\n",
       "      <th>cast</th>\n",
       "      <th>homepage</th>\n",
       "      <th>director</th>\n",
       "      <th>tagline</th>\n",
       "      <th>...</th>\n",
       "      <th>overview</th>\n",
       "      <th>runtime</th>\n",
       "      <th>genres</th>\n",
       "      <th>production_companies</th>\n",
       "      <th>release_date</th>\n",
       "      <th>vote_count</th>\n",
       "      <th>vote_average</th>\n",
       "      <th>release_year</th>\n",
       "      <th>budget_adj</th>\n",
       "      <th>revenue_adj</th>\n",
       "    </tr>\n",
       "  </thead>\n",
       "  <tbody>\n",
       "    <tr>\n",
       "      <th>0</th>\n",
       "      <td>135397</td>\n",
       "      <td>tt0369610</td>\n",
       "      <td>32.985763</td>\n",
       "      <td>150000000</td>\n",
       "      <td>1513528810</td>\n",
       "      <td>Jurassic World</td>\n",
       "      <td>Chris Pratt|Bryce Dallas Howard|Irrfan Khan|Vi...</td>\n",
       "      <td>http://www.jurassicworld.com/</td>\n",
       "      <td>Colin Trevorrow</td>\n",
       "      <td>The park is open.</td>\n",
       "      <td>...</td>\n",
       "      <td>Twenty-two years after the events of Jurassic ...</td>\n",
       "      <td>124</td>\n",
       "      <td>Action|Adventure|Science Fiction|Thriller</td>\n",
       "      <td>Universal Studios|Amblin Entertainment|Legenda...</td>\n",
       "      <td>6/9/15</td>\n",
       "      <td>5562</td>\n",
       "      <td>6.5</td>\n",
       "      <td>2015</td>\n",
       "      <td>1.379999e+08</td>\n",
       "      <td>1.392446e+09</td>\n",
       "    </tr>\n",
       "    <tr>\n",
       "      <th>1</th>\n",
       "      <td>76341</td>\n",
       "      <td>tt1392190</td>\n",
       "      <td>28.419936</td>\n",
       "      <td>150000000</td>\n",
       "      <td>378436354</td>\n",
       "      <td>Mad Max: Fury Road</td>\n",
       "      <td>Tom Hardy|Charlize Theron|Hugh Keays-Byrne|Nic...</td>\n",
       "      <td>http://www.madmaxmovie.com/</td>\n",
       "      <td>George Miller</td>\n",
       "      <td>What a Lovely Day.</td>\n",
       "      <td>...</td>\n",
       "      <td>An apocalyptic story set in the furthest reach...</td>\n",
       "      <td>120</td>\n",
       "      <td>Action|Adventure|Science Fiction|Thriller</td>\n",
       "      <td>Village Roadshow Pictures|Kennedy Miller Produ...</td>\n",
       "      <td>5/13/15</td>\n",
       "      <td>6185</td>\n",
       "      <td>7.1</td>\n",
       "      <td>2015</td>\n",
       "      <td>1.379999e+08</td>\n",
       "      <td>3.481613e+08</td>\n",
       "    </tr>\n",
       "    <tr>\n",
       "      <th>2</th>\n",
       "      <td>262500</td>\n",
       "      <td>tt2908446</td>\n",
       "      <td>13.112507</td>\n",
       "      <td>110000000</td>\n",
       "      <td>295238201</td>\n",
       "      <td>Insurgent</td>\n",
       "      <td>Shailene Woodley|Theo James|Kate Winslet|Ansel...</td>\n",
       "      <td>http://www.thedivergentseries.movie/#insurgent</td>\n",
       "      <td>Robert Schwentke</td>\n",
       "      <td>One Choice Can Destroy You</td>\n",
       "      <td>...</td>\n",
       "      <td>Beatrice Prior must confront her inner demons ...</td>\n",
       "      <td>119</td>\n",
       "      <td>Adventure|Science Fiction|Thriller</td>\n",
       "      <td>Summit Entertainment|Mandeville Films|Red Wago...</td>\n",
       "      <td>3/18/15</td>\n",
       "      <td>2480</td>\n",
       "      <td>6.3</td>\n",
       "      <td>2015</td>\n",
       "      <td>1.012000e+08</td>\n",
       "      <td>2.716190e+08</td>\n",
       "    </tr>\n",
       "  </tbody>\n",
       "</table>\n",
       "<p>3 rows × 21 columns</p>\n",
       "</div>"
      ],
      "text/plain": [
       "       id    imdb_id  popularity     budget     revenue      original_title  \\\n",
       "0  135397  tt0369610   32.985763  150000000  1513528810      Jurassic World   \n",
       "1   76341  tt1392190   28.419936  150000000   378436354  Mad Max: Fury Road   \n",
       "2  262500  tt2908446   13.112507  110000000   295238201           Insurgent   \n",
       "\n",
       "                                                cast  \\\n",
       "0  Chris Pratt|Bryce Dallas Howard|Irrfan Khan|Vi...   \n",
       "1  Tom Hardy|Charlize Theron|Hugh Keays-Byrne|Nic...   \n",
       "2  Shailene Woodley|Theo James|Kate Winslet|Ansel...   \n",
       "\n",
       "                                         homepage          director  \\\n",
       "0                   http://www.jurassicworld.com/   Colin Trevorrow   \n",
       "1                     http://www.madmaxmovie.com/     George Miller   \n",
       "2  http://www.thedivergentseries.movie/#insurgent  Robert Schwentke   \n",
       "\n",
       "                      tagline      ...       \\\n",
       "0           The park is open.      ...        \n",
       "1          What a Lovely Day.      ...        \n",
       "2  One Choice Can Destroy You      ...        \n",
       "\n",
       "                                            overview runtime  \\\n",
       "0  Twenty-two years after the events of Jurassic ...     124   \n",
       "1  An apocalyptic story set in the furthest reach...     120   \n",
       "2  Beatrice Prior must confront her inner demons ...     119   \n",
       "\n",
       "                                      genres  \\\n",
       "0  Action|Adventure|Science Fiction|Thriller   \n",
       "1  Action|Adventure|Science Fiction|Thriller   \n",
       "2         Adventure|Science Fiction|Thriller   \n",
       "\n",
       "                                production_companies release_date vote_count  \\\n",
       "0  Universal Studios|Amblin Entertainment|Legenda...       6/9/15       5562   \n",
       "1  Village Roadshow Pictures|Kennedy Miller Produ...      5/13/15       6185   \n",
       "2  Summit Entertainment|Mandeville Films|Red Wago...      3/18/15       2480   \n",
       "\n",
       "   vote_average  release_year    budget_adj   revenue_adj  \n",
       "0           6.5          2015  1.379999e+08  1.392446e+09  \n",
       "1           7.1          2015  1.379999e+08  3.481613e+08  \n",
       "2           6.3          2015  1.012000e+08  2.716190e+08  \n",
       "\n",
       "[3 rows x 21 columns]"
      ]
     },
     "execution_count": 2,
     "metadata": {},
     "output_type": "execute_result"
    }
   ],
   "source": [
    "# load dataset\n",
    "df = pd.read_csv(\"tmdb-movies.csv\")\n",
    "df.head(3)"
   ]
  },
  {
   "cell_type": "markdown",
   "metadata": {},
   "source": [
    "Looking at the example records it is good to notice that **genres** contain multiple values separated by pipe (|) characters."
   ]
  },
  {
   "cell_type": "code",
   "execution_count": 3,
   "metadata": {},
   "outputs": [
    {
     "name": "stdout",
     "output_type": "stream",
     "text": [
      "<class 'pandas.core.frame.DataFrame'>\n",
      "RangeIndex: 10866 entries, 0 to 10865\n",
      "Data columns (total 21 columns):\n",
      "id                      10866 non-null int64\n",
      "imdb_id                 10856 non-null object\n",
      "popularity              10866 non-null float64\n",
      "budget                  10866 non-null int64\n",
      "revenue                 10866 non-null int64\n",
      "original_title          10866 non-null object\n",
      "cast                    10790 non-null object\n",
      "homepage                2936 non-null object\n",
      "director                10822 non-null object\n",
      "tagline                 8042 non-null object\n",
      "keywords                9373 non-null object\n",
      "overview                10862 non-null object\n",
      "runtime                 10866 non-null int64\n",
      "genres                  10843 non-null object\n",
      "production_companies    9836 non-null object\n",
      "release_date            10866 non-null object\n",
      "vote_count              10866 non-null int64\n",
      "vote_average            10866 non-null float64\n",
      "release_year            10866 non-null int64\n",
      "budget_adj              10866 non-null float64\n",
      "revenue_adj             10866 non-null float64\n",
      "dtypes: float64(4), int64(6), object(11)\n",
      "memory usage: 1.7+ MB\n"
     ]
    }
   ],
   "source": [
    "df.info()"
   ]
  },
  {
   "cell_type": "markdown",
   "metadata": {},
   "source": [
    "From this info we can see that some columns are missing values.  \n",
    "I am interested in **genres**, which has 23 records with missing value. I think 23 out of 10866 will not affect my analysis too much.  \n",
    "**runtime**, **release_year** and **vote_average** have all values and they are stored as _integer_ and _float_, which is perfect for my analysis."
   ]
  },
  {
   "cell_type": "code",
   "execution_count": 4,
   "metadata": {},
   "outputs": [
    {
     "data": {
      "text/html": [
       "<div>\n",
       "<style scoped>\n",
       "    .dataframe tbody tr th:only-of-type {\n",
       "        vertical-align: middle;\n",
       "    }\n",
       "\n",
       "    .dataframe tbody tr th {\n",
       "        vertical-align: top;\n",
       "    }\n",
       "\n",
       "    .dataframe thead th {\n",
       "        text-align: right;\n",
       "    }\n",
       "</style>\n",
       "<table border=\"1\" class=\"dataframe\">\n",
       "  <thead>\n",
       "    <tr style=\"text-align: right;\">\n",
       "      <th></th>\n",
       "      <th>id</th>\n",
       "      <th>popularity</th>\n",
       "      <th>budget</th>\n",
       "      <th>revenue</th>\n",
       "      <th>runtime</th>\n",
       "      <th>vote_count</th>\n",
       "      <th>vote_average</th>\n",
       "      <th>release_year</th>\n",
       "      <th>budget_adj</th>\n",
       "      <th>revenue_adj</th>\n",
       "    </tr>\n",
       "  </thead>\n",
       "  <tbody>\n",
       "    <tr>\n",
       "      <th>count</th>\n",
       "      <td>10866.000000</td>\n",
       "      <td>10866.000000</td>\n",
       "      <td>1.086600e+04</td>\n",
       "      <td>1.086600e+04</td>\n",
       "      <td>10866.000000</td>\n",
       "      <td>10866.000000</td>\n",
       "      <td>10866.000000</td>\n",
       "      <td>10866.000000</td>\n",
       "      <td>1.086600e+04</td>\n",
       "      <td>1.086600e+04</td>\n",
       "    </tr>\n",
       "    <tr>\n",
       "      <th>mean</th>\n",
       "      <td>66064.177434</td>\n",
       "      <td>0.646441</td>\n",
       "      <td>1.462570e+07</td>\n",
       "      <td>3.982332e+07</td>\n",
       "      <td>102.070863</td>\n",
       "      <td>217.389748</td>\n",
       "      <td>5.974922</td>\n",
       "      <td>2001.322658</td>\n",
       "      <td>1.755104e+07</td>\n",
       "      <td>5.136436e+07</td>\n",
       "    </tr>\n",
       "    <tr>\n",
       "      <th>std</th>\n",
       "      <td>92130.136561</td>\n",
       "      <td>1.000185</td>\n",
       "      <td>3.091321e+07</td>\n",
       "      <td>1.170035e+08</td>\n",
       "      <td>31.381405</td>\n",
       "      <td>575.619058</td>\n",
       "      <td>0.935142</td>\n",
       "      <td>12.812941</td>\n",
       "      <td>3.430616e+07</td>\n",
       "      <td>1.446325e+08</td>\n",
       "    </tr>\n",
       "    <tr>\n",
       "      <th>min</th>\n",
       "      <td>5.000000</td>\n",
       "      <td>0.000065</td>\n",
       "      <td>0.000000e+00</td>\n",
       "      <td>0.000000e+00</td>\n",
       "      <td>0.000000</td>\n",
       "      <td>10.000000</td>\n",
       "      <td>1.500000</td>\n",
       "      <td>1960.000000</td>\n",
       "      <td>0.000000e+00</td>\n",
       "      <td>0.000000e+00</td>\n",
       "    </tr>\n",
       "    <tr>\n",
       "      <th>25%</th>\n",
       "      <td>10596.250000</td>\n",
       "      <td>0.207583</td>\n",
       "      <td>0.000000e+00</td>\n",
       "      <td>0.000000e+00</td>\n",
       "      <td>90.000000</td>\n",
       "      <td>17.000000</td>\n",
       "      <td>5.400000</td>\n",
       "      <td>1995.000000</td>\n",
       "      <td>0.000000e+00</td>\n",
       "      <td>0.000000e+00</td>\n",
       "    </tr>\n",
       "    <tr>\n",
       "      <th>50%</th>\n",
       "      <td>20669.000000</td>\n",
       "      <td>0.383856</td>\n",
       "      <td>0.000000e+00</td>\n",
       "      <td>0.000000e+00</td>\n",
       "      <td>99.000000</td>\n",
       "      <td>38.000000</td>\n",
       "      <td>6.000000</td>\n",
       "      <td>2006.000000</td>\n",
       "      <td>0.000000e+00</td>\n",
       "      <td>0.000000e+00</td>\n",
       "    </tr>\n",
       "    <tr>\n",
       "      <th>75%</th>\n",
       "      <td>75610.000000</td>\n",
       "      <td>0.713817</td>\n",
       "      <td>1.500000e+07</td>\n",
       "      <td>2.400000e+07</td>\n",
       "      <td>111.000000</td>\n",
       "      <td>145.750000</td>\n",
       "      <td>6.600000</td>\n",
       "      <td>2011.000000</td>\n",
       "      <td>2.085325e+07</td>\n",
       "      <td>3.369710e+07</td>\n",
       "    </tr>\n",
       "    <tr>\n",
       "      <th>max</th>\n",
       "      <td>417859.000000</td>\n",
       "      <td>32.985763</td>\n",
       "      <td>4.250000e+08</td>\n",
       "      <td>2.781506e+09</td>\n",
       "      <td>900.000000</td>\n",
       "      <td>9767.000000</td>\n",
       "      <td>9.200000</td>\n",
       "      <td>2015.000000</td>\n",
       "      <td>4.250000e+08</td>\n",
       "      <td>2.827124e+09</td>\n",
       "    </tr>\n",
       "  </tbody>\n",
       "</table>\n",
       "</div>"
      ],
      "text/plain": [
       "                  id    popularity        budget       revenue       runtime  \\\n",
       "count   10866.000000  10866.000000  1.086600e+04  1.086600e+04  10866.000000   \n",
       "mean    66064.177434      0.646441  1.462570e+07  3.982332e+07    102.070863   \n",
       "std     92130.136561      1.000185  3.091321e+07  1.170035e+08     31.381405   \n",
       "min         5.000000      0.000065  0.000000e+00  0.000000e+00      0.000000   \n",
       "25%     10596.250000      0.207583  0.000000e+00  0.000000e+00     90.000000   \n",
       "50%     20669.000000      0.383856  0.000000e+00  0.000000e+00     99.000000   \n",
       "75%     75610.000000      0.713817  1.500000e+07  2.400000e+07    111.000000   \n",
       "max    417859.000000     32.985763  4.250000e+08  2.781506e+09    900.000000   \n",
       "\n",
       "         vote_count  vote_average  release_year    budget_adj   revenue_adj  \n",
       "count  10866.000000  10866.000000  10866.000000  1.086600e+04  1.086600e+04  \n",
       "mean     217.389748      5.974922   2001.322658  1.755104e+07  5.136436e+07  \n",
       "std      575.619058      0.935142     12.812941  3.430616e+07  1.446325e+08  \n",
       "min       10.000000      1.500000   1960.000000  0.000000e+00  0.000000e+00  \n",
       "25%       17.000000      5.400000   1995.000000  0.000000e+00  0.000000e+00  \n",
       "50%       38.000000      6.000000   2006.000000  0.000000e+00  0.000000e+00  \n",
       "75%      145.750000      6.600000   2011.000000  2.085325e+07  3.369710e+07  \n",
       "max     9767.000000      9.200000   2015.000000  4.250000e+08  2.827124e+09  "
      ]
     },
     "execution_count": 4,
     "metadata": {},
     "output_type": "execute_result"
    }
   ],
   "source": [
    "df.describe()"
   ]
  },
  {
   "cell_type": "markdown",
   "metadata": {},
   "source": [
    "These statistics give some interesting information on the dataset.  \n",
    "Looking at **budget** and **revenue** we can see that at least half of values are __0__.\n",
    "I think it makes it difficult to do analysis based on these columns.  \n",
    "Also we can see that movies in this dataset are with release year from 1960 to 2015.  \n",
    "User rating (**vote_average**) is between 1.5 and 9.2 with average 5.97.  \n",
    "There are some movies with <b>0</b> **runtime**. I wonder how many?"
   ]
  },
  {
   "cell_type": "code",
   "execution_count": 5,
   "metadata": {},
   "outputs": [
    {
     "data": {
      "text/plain": [
       "31"
      ]
     },
     "execution_count": 5,
     "metadata": {},
     "output_type": "execute_result"
    }
   ],
   "source": [
    "# how many movies with runtime = 0?\n",
    "df.query(\"runtime == 0\").runtime.count()"
   ]
  },
  {
   "cell_type": "markdown",
   "metadata": {},
   "source": [
    "So, 31 movies don't have data on the length of the movie.\n",
    "\n",
    "Let's see if there are duplicates in this dataset."
   ]
  },
  {
   "cell_type": "code",
   "execution_count": 6,
   "metadata": {},
   "outputs": [
    {
     "data": {
      "text/html": [
       "<div>\n",
       "<style scoped>\n",
       "    .dataframe tbody tr th:only-of-type {\n",
       "        vertical-align: middle;\n",
       "    }\n",
       "\n",
       "    .dataframe tbody tr th {\n",
       "        vertical-align: top;\n",
       "    }\n",
       "\n",
       "    .dataframe thead th {\n",
       "        text-align: right;\n",
       "    }\n",
       "</style>\n",
       "<table border=\"1\" class=\"dataframe\">\n",
       "  <thead>\n",
       "    <tr style=\"text-align: right;\">\n",
       "      <th></th>\n",
       "      <th>id</th>\n",
       "      <th>imdb_id</th>\n",
       "      <th>popularity</th>\n",
       "      <th>budget</th>\n",
       "      <th>revenue</th>\n",
       "      <th>original_title</th>\n",
       "      <th>cast</th>\n",
       "      <th>homepage</th>\n",
       "      <th>director</th>\n",
       "      <th>tagline</th>\n",
       "      <th>...</th>\n",
       "      <th>overview</th>\n",
       "      <th>runtime</th>\n",
       "      <th>genres</th>\n",
       "      <th>production_companies</th>\n",
       "      <th>release_date</th>\n",
       "      <th>vote_count</th>\n",
       "      <th>vote_average</th>\n",
       "      <th>release_year</th>\n",
       "      <th>budget_adj</th>\n",
       "      <th>revenue_adj</th>\n",
       "    </tr>\n",
       "  </thead>\n",
       "  <tbody>\n",
       "    <tr>\n",
       "      <th>2089</th>\n",
       "      <td>42194</td>\n",
       "      <td>tt0411951</td>\n",
       "      <td>0.596430</td>\n",
       "      <td>30000000</td>\n",
       "      <td>967000</td>\n",
       "      <td>TEKKEN</td>\n",
       "      <td>Jon Foo|Kelly Overton|Cary-Hiroyuki Tagawa|Ian...</td>\n",
       "      <td>NaN</td>\n",
       "      <td>Dwight H. Little</td>\n",
       "      <td>Survival is no game</td>\n",
       "      <td>...</td>\n",
       "      <td>In the year of 2039, after World Wars destroy ...</td>\n",
       "      <td>92</td>\n",
       "      <td>Crime|Drama|Action|Thriller|Science Fiction</td>\n",
       "      <td>Namco|Light Song Films</td>\n",
       "      <td>3/20/10</td>\n",
       "      <td>110</td>\n",
       "      <td>5.0</td>\n",
       "      <td>2010</td>\n",
       "      <td>3.000000e+07</td>\n",
       "      <td>9.670000e+05</td>\n",
       "    </tr>\n",
       "    <tr>\n",
       "      <th>2090</th>\n",
       "      <td>42194</td>\n",
       "      <td>tt0411951</td>\n",
       "      <td>0.596430</td>\n",
       "      <td>30000000</td>\n",
       "      <td>967000</td>\n",
       "      <td>TEKKEN</td>\n",
       "      <td>Jon Foo|Kelly Overton|Cary-Hiroyuki Tagawa|Ian...</td>\n",
       "      <td>NaN</td>\n",
       "      <td>Dwight H. Little</td>\n",
       "      <td>Survival is no game</td>\n",
       "      <td>...</td>\n",
       "      <td>In the year of 2039, after World Wars destroy ...</td>\n",
       "      <td>92</td>\n",
       "      <td>Crime|Drama|Action|Thriller|Science Fiction</td>\n",
       "      <td>Namco|Light Song Films</td>\n",
       "      <td>3/20/10</td>\n",
       "      <td>110</td>\n",
       "      <td>5.0</td>\n",
       "      <td>2010</td>\n",
       "      <td>3.000000e+07</td>\n",
       "      <td>9.670000e+05</td>\n",
       "    </tr>\n",
       "    <tr>\n",
       "      <th>2508</th>\n",
       "      <td>11944</td>\n",
       "      <td>tt0178145</td>\n",
       "      <td>0.406308</td>\n",
       "      <td>20000000</td>\n",
       "      <td>0</td>\n",
       "      <td>Joan of Arc</td>\n",
       "      <td>Leelee Sobieski|Powers Boothe|Neil Patrick Har...</td>\n",
       "      <td>NaN</td>\n",
       "      <td>Christian Duguay</td>\n",
       "      <td>She died at 19. 500 years later her legend liv...</td>\n",
       "      <td>...</td>\n",
       "      <td>Ten years before her death, Joan hears voices....</td>\n",
       "      <td>140</td>\n",
       "      <td>Drama|History</td>\n",
       "      <td>NaN</td>\n",
       "      <td>5/16/99</td>\n",
       "      <td>13</td>\n",
       "      <td>5.8</td>\n",
       "      <td>1999</td>\n",
       "      <td>2.618106e+07</td>\n",
       "      <td>0.000000e+00</td>\n",
       "    </tr>\n",
       "    <tr>\n",
       "      <th>2571</th>\n",
       "      <td>10047</td>\n",
       "      <td>tt0151137</td>\n",
       "      <td>0.235223</td>\n",
       "      <td>60000000</td>\n",
       "      <td>66976317</td>\n",
       "      <td>Joan of Arc</td>\n",
       "      <td>Milla Jovovich|Dustin Hoffman|Faye Dunaway|Joh...</td>\n",
       "      <td>NaN</td>\n",
       "      <td>Luc Besson</td>\n",
       "      <td>NaN</td>\n",
       "      <td>...</td>\n",
       "      <td>In 1429 a teenage girl from a remote French vi...</td>\n",
       "      <td>148</td>\n",
       "      <td>Adventure|Drama|Action|History|War</td>\n",
       "      <td>Columbia Pictures|Gaumont</td>\n",
       "      <td>10/18/99</td>\n",
       "      <td>209</td>\n",
       "      <td>6.1</td>\n",
       "      <td>1999</td>\n",
       "      <td>7.854317e+07</td>\n",
       "      <td>8.767554e+07</td>\n",
       "    </tr>\n",
       "    <tr>\n",
       "      <th>5724</th>\n",
       "      <td>217316</td>\n",
       "      <td>tt2518788</td>\n",
       "      <td>0.364669</td>\n",
       "      <td>0</td>\n",
       "      <td>0</td>\n",
       "      <td>1</td>\n",
       "      <td>Michael Fassbender|Niki Lauda|Michael Schumach...</td>\n",
       "      <td>https://www.facebook.com/1thefilm</td>\n",
       "      <td>Paul Crowder</td>\n",
       "      <td>The True Story of the Drivers Who Risked Their...</td>\n",
       "      <td>...</td>\n",
       "      <td>Set in the golden era of Grand Prix Racing '1'...</td>\n",
       "      <td>112</td>\n",
       "      <td>Documentary</td>\n",
       "      <td>Exclusive Media Group|Universum Film (UFA)|Spi...</td>\n",
       "      <td>9/30/13</td>\n",
       "      <td>25</td>\n",
       "      <td>7.6</td>\n",
       "      <td>2013</td>\n",
       "      <td>0.000000e+00</td>\n",
       "      <td>0.000000e+00</td>\n",
       "    </tr>\n",
       "    <tr>\n",
       "      <th>5748</th>\n",
       "      <td>176068</td>\n",
       "      <td>tt2395385</td>\n",
       "      <td>0.336081</td>\n",
       "      <td>0</td>\n",
       "      <td>0</td>\n",
       "      <td>1</td>\n",
       "      <td>Rhys Wakefield|Logan Miller|Ashley Hinshaw|Nat...</td>\n",
       "      <td>NaN</td>\n",
       "      <td>Dennis Iliadis</td>\n",
       "      <td>Everyone wants one.</td>\n",
       "      <td>...</td>\n",
       "      <td>Three college friends go to the biggest party ...</td>\n",
       "      <td>95</td>\n",
       "      <td>Thriller|Science Fiction</td>\n",
       "      <td>Process Productions</td>\n",
       "      <td>9/20/13</td>\n",
       "      <td>49</td>\n",
       "      <td>5.1</td>\n",
       "      <td>2013</td>\n",
       "      <td>0.000000e+00</td>\n",
       "      <td>0.000000e+00</td>\n",
       "    </tr>\n",
       "    <tr>\n",
       "      <th>8550</th>\n",
       "      <td>3573</td>\n",
       "      <td>tt0116191</td>\n",
       "      <td>0.477489</td>\n",
       "      <td>6000000</td>\n",
       "      <td>22231658</td>\n",
       "      <td>Emma</td>\n",
       "      <td>Gwyneth Paltrow|Toni Collette|Alan Cumming|Ewa...</td>\n",
       "      <td>http://www.miramax.com/movie/emma/</td>\n",
       "      <td>Douglas McGrath</td>\n",
       "      <td>Cupid is armed and dangerous!</td>\n",
       "      <td>...</td>\n",
       "      <td>Emma Woodhouse is a congenial young lady who d...</td>\n",
       "      <td>121</td>\n",
       "      <td>Comedy|Drama|Romance</td>\n",
       "      <td>Miramax Films|Haft Entertainment|Matchmaker Films</td>\n",
       "      <td>8/2/96</td>\n",
       "      <td>77</td>\n",
       "      <td>6.5</td>\n",
       "      <td>1996</td>\n",
       "      <td>8.341300e+06</td>\n",
       "      <td>3.090682e+07</td>\n",
       "    </tr>\n",
       "    <tr>\n",
       "      <th>8646</th>\n",
       "      <td>12254</td>\n",
       "      <td>tt0118308</td>\n",
       "      <td>0.161600</td>\n",
       "      <td>0</td>\n",
       "      <td>0</td>\n",
       "      <td>Emma</td>\n",
       "      <td>Kate Beckinsale|Bernard Hepton|Mark Strong|Sam...</td>\n",
       "      <td>NaN</td>\n",
       "      <td>Diarmuid Lawrence</td>\n",
       "      <td>NaN</td>\n",
       "      <td>...</td>\n",
       "      <td>Emma Woodhouse has a rigid sense of propriety ...</td>\n",
       "      <td>107</td>\n",
       "      <td>TV Movie|Comedy|Drama|Romance</td>\n",
       "      <td>Meridian Broadcasting Ltd</td>\n",
       "      <td>8/1/96</td>\n",
       "      <td>15</td>\n",
       "      <td>6.6</td>\n",
       "      <td>1996</td>\n",
       "      <td>0.000000e+00</td>\n",
       "      <td>0.000000e+00</td>\n",
       "    </tr>\n",
       "  </tbody>\n",
       "</table>\n",
       "<p>8 rows × 21 columns</p>\n",
       "</div>"
      ],
      "text/plain": [
       "          id    imdb_id  popularity    budget   revenue original_title  \\\n",
       "2089   42194  tt0411951    0.596430  30000000    967000         TEKKEN   \n",
       "2090   42194  tt0411951    0.596430  30000000    967000         TEKKEN   \n",
       "2508   11944  tt0178145    0.406308  20000000         0    Joan of Arc   \n",
       "2571   10047  tt0151137    0.235223  60000000  66976317    Joan of Arc   \n",
       "5724  217316  tt2518788    0.364669         0         0              1   \n",
       "5748  176068  tt2395385    0.336081         0         0              1   \n",
       "8550    3573  tt0116191    0.477489   6000000  22231658           Emma   \n",
       "8646   12254  tt0118308    0.161600         0         0           Emma   \n",
       "\n",
       "                                                   cast  \\\n",
       "2089  Jon Foo|Kelly Overton|Cary-Hiroyuki Tagawa|Ian...   \n",
       "2090  Jon Foo|Kelly Overton|Cary-Hiroyuki Tagawa|Ian...   \n",
       "2508  Leelee Sobieski|Powers Boothe|Neil Patrick Har...   \n",
       "2571  Milla Jovovich|Dustin Hoffman|Faye Dunaway|Joh...   \n",
       "5724  Michael Fassbender|Niki Lauda|Michael Schumach...   \n",
       "5748  Rhys Wakefield|Logan Miller|Ashley Hinshaw|Nat...   \n",
       "8550  Gwyneth Paltrow|Toni Collette|Alan Cumming|Ewa...   \n",
       "8646  Kate Beckinsale|Bernard Hepton|Mark Strong|Sam...   \n",
       "\n",
       "                                homepage           director  \\\n",
       "2089                                 NaN   Dwight H. Little   \n",
       "2090                                 NaN   Dwight H. Little   \n",
       "2508                                 NaN   Christian Duguay   \n",
       "2571                                 NaN         Luc Besson   \n",
       "5724   https://www.facebook.com/1thefilm       Paul Crowder   \n",
       "5748                                 NaN     Dennis Iliadis   \n",
       "8550  http://www.miramax.com/movie/emma/    Douglas McGrath   \n",
       "8646                                 NaN  Diarmuid Lawrence   \n",
       "\n",
       "                                                tagline      ...       \\\n",
       "2089                                Survival is no game      ...        \n",
       "2090                                Survival is no game      ...        \n",
       "2508  She died at 19. 500 years later her legend liv...      ...        \n",
       "2571                                                NaN      ...        \n",
       "5724  The True Story of the Drivers Who Risked Their...      ...        \n",
       "5748                                Everyone wants one.      ...        \n",
       "8550                      Cupid is armed and dangerous!      ...        \n",
       "8646                                                NaN      ...        \n",
       "\n",
       "                                               overview runtime  \\\n",
       "2089  In the year of 2039, after World Wars destroy ...      92   \n",
       "2090  In the year of 2039, after World Wars destroy ...      92   \n",
       "2508  Ten years before her death, Joan hears voices....     140   \n",
       "2571  In 1429 a teenage girl from a remote French vi...     148   \n",
       "5724  Set in the golden era of Grand Prix Racing '1'...     112   \n",
       "5748  Three college friends go to the biggest party ...      95   \n",
       "8550  Emma Woodhouse is a congenial young lady who d...     121   \n",
       "8646  Emma Woodhouse has a rigid sense of propriety ...     107   \n",
       "\n",
       "                                           genres  \\\n",
       "2089  Crime|Drama|Action|Thriller|Science Fiction   \n",
       "2090  Crime|Drama|Action|Thriller|Science Fiction   \n",
       "2508                                Drama|History   \n",
       "2571           Adventure|Drama|Action|History|War   \n",
       "5724                                  Documentary   \n",
       "5748                     Thriller|Science Fiction   \n",
       "8550                         Comedy|Drama|Romance   \n",
       "8646                TV Movie|Comedy|Drama|Romance   \n",
       "\n",
       "                                   production_companies release_date  \\\n",
       "2089                             Namco|Light Song Films      3/20/10   \n",
       "2090                             Namco|Light Song Films      3/20/10   \n",
       "2508                                                NaN      5/16/99   \n",
       "2571                          Columbia Pictures|Gaumont     10/18/99   \n",
       "5724  Exclusive Media Group|Universum Film (UFA)|Spi...      9/30/13   \n",
       "5748                                Process Productions      9/20/13   \n",
       "8550  Miramax Films|Haft Entertainment|Matchmaker Films       8/2/96   \n",
       "8646                          Meridian Broadcasting Ltd       8/1/96   \n",
       "\n",
       "     vote_count  vote_average  release_year    budget_adj   revenue_adj  \n",
       "2089        110           5.0          2010  3.000000e+07  9.670000e+05  \n",
       "2090        110           5.0          2010  3.000000e+07  9.670000e+05  \n",
       "2508         13           5.8          1999  2.618106e+07  0.000000e+00  \n",
       "2571        209           6.1          1999  7.854317e+07  8.767554e+07  \n",
       "5724         25           7.6          2013  0.000000e+00  0.000000e+00  \n",
       "5748         49           5.1          2013  0.000000e+00  0.000000e+00  \n",
       "8550         77           6.5          1996  8.341300e+06  3.090682e+07  \n",
       "8646         15           6.6          1996  0.000000e+00  0.000000e+00  \n",
       "\n",
       "[8 rows x 21 columns]"
      ]
     },
     "execution_count": 6,
     "metadata": {},
     "output_type": "execute_result"
    }
   ],
   "source": [
    "# show duplicates based on \"original_title\" and \"release_year\"\n",
    "df[df.duplicated(subset=[\"original_title\",\"release_year\"], keep=False)]"
   ]
  },
  {
   "cell_type": "markdown",
   "metadata": {},
   "source": [
    "There are 4 pairs of duplicates found. After comparing them we can see that only first pair is a complete \n",
    "duplicate. All others seem to be different movies, they have different director and cast.\n",
    "\n",
    "Sometimes it is helpful to visually look at data distribution."
   ]
  },
  {
   "cell_type": "code",
   "execution_count": 7,
   "metadata": {},
   "outputs": [
    {
     "data": {
      "text/plain": [
       "array([[<matplotlib.axes._subplots.AxesSubplot object at 0x000001CC360F6EB8>,\n",
       "        <matplotlib.axes._subplots.AxesSubplot object at 0x000001CC361594E0>,\n",
       "        <matplotlib.axes._subplots.AxesSubplot object at 0x000001CC36184780>],\n",
       "       [<matplotlib.axes._subplots.AxesSubplot object at 0x000001CC361AA9E8>,\n",
       "        <matplotlib.axes._subplots.AxesSubplot object at 0x000001CC361D3C50>,\n",
       "        <matplotlib.axes._subplots.AxesSubplot object at 0x000001CC361FCDA0>],\n",
       "       [<matplotlib.axes._subplots.AxesSubplot object at 0x000001CC3622F048>,\n",
       "        <matplotlib.axes._subplots.AxesSubplot object at 0x000001CC362572E8>,\n",
       "        <matplotlib.axes._subplots.AxesSubplot object at 0x000001CC36257320>],\n",
       "       [<matplotlib.axes._subplots.AxesSubplot object at 0x000001CC362A7780>,\n",
       "        <matplotlib.axes._subplots.AxesSubplot object at 0x000001CC362D09E8>,\n",
       "        <matplotlib.axes._subplots.AxesSubplot object at 0x000001CC362F9C50>]],\n",
       "      dtype=object)"
      ]
     },
     "execution_count": 7,
     "metadata": {},
     "output_type": "execute_result"
    },
    {
     "data": {
      "image/png": "[encoded data removed]",
      "text/plain": [
       "<Figure size 864x720 with 12 Axes>"
      ]
     },
     "metadata": {
      "needs_background": "light"
     },
     "output_type": "display_data"
    }
   ],
   "source": [
    "df.hist(figsize=(12,10))"
   ]
  },
  {
   "cell_type": "markdown",
   "metadata": {},
   "source": [
    "From these histograms we get quick understanding how the data is distributed. Most of the parameters are right skewed. The __release_year__ is left skewed and __vote_average__ is closer to normal distribution."
   ]
  },
  {
   "cell_type": "markdown",
   "metadata": {},
   "source": [
    "### Data Cleaning"
   ]
  },
  {
   "cell_type": "markdown",
   "metadata": {},
   "source": [
    "Now, after inspecting the dataset, we can prepare it for getting answers for our questions.  \n",
    "First we want to remove duplicates."
   ]
  },
  {
   "cell_type": "code",
   "execution_count": 8,
   "metadata": {},
   "outputs": [
    {
     "data": {
      "text/plain": [
       "(10865, 21)"
      ]
     },
     "execution_count": 8,
     "metadata": {},
     "output_type": "execute_result"
    }
   ],
   "source": [
    "df.drop_duplicates(inplace=True)\n",
    "# We know that there were 10866 records and only one duplicate record, so there should be 10865 records now.\n",
    "df.shape"
   ]
  },
  {
   "cell_type": "markdown",
   "metadata": {},
   "source": [
    "Now let's keep only columns we need: runtime, genres, vote_average and release_year."
   ]
  },
  {
   "cell_type": "code",
   "execution_count": 9,
   "metadata": {
    "collapsed": true
   },
   "outputs": [
    {
     "data": {
      "text/html": [
       "<div>\n",
       "<style scoped>\n",
       "    .dataframe tbody tr th:only-of-type {\n",
       "        vertical-align: middle;\n",
       "    }\n",
       "\n",
       "    .dataframe tbody tr th {\n",
       "        vertical-align: top;\n",
       "    }\n",
       "\n",
       "    .dataframe thead th {\n",
       "        text-align: right;\n",
       "    }\n",
       "</style>\n",
       "<table border=\"1\" class=\"dataframe\">\n",
       "  <thead>\n",
       "    <tr style=\"text-align: right;\">\n",
       "      <th></th>\n",
       "      <th>runtime</th>\n",
       "      <th>genres</th>\n",
       "      <th>vote_average</th>\n",
       "      <th>release_year</th>\n",
       "    </tr>\n",
       "  </thead>\n",
       "  <tbody>\n",
       "    <tr>\n",
       "      <th>0</th>\n",
       "      <td>124</td>\n",
       "      <td>Action|Adventure|Science Fiction|Thriller</td>\n",
       "      <td>6.5</td>\n",
       "      <td>2015</td>\n",
       "    </tr>\n",
       "    <tr>\n",
       "      <th>1</th>\n",
       "      <td>120</td>\n",
       "      <td>Action|Adventure|Science Fiction|Thriller</td>\n",
       "      <td>7.1</td>\n",
       "      <td>2015</td>\n",
       "    </tr>\n",
       "    <tr>\n",
       "      <th>2</th>\n",
       "      <td>119</td>\n",
       "      <td>Adventure|Science Fiction|Thriller</td>\n",
       "      <td>6.3</td>\n",
       "      <td>2015</td>\n",
       "    </tr>\n",
       "  </tbody>\n",
       "</table>\n",
       "</div>"
      ],
      "text/plain": [
       "   runtime                                     genres  vote_average  \\\n",
       "0      124  Action|Adventure|Science Fiction|Thriller           6.5   \n",
       "1      120  Action|Adventure|Science Fiction|Thriller           7.1   \n",
       "2      119         Adventure|Science Fiction|Thriller           6.3   \n",
       "\n",
       "   release_year  \n",
       "0          2015  \n",
       "1          2015  \n",
       "2          2015  "
      ]
     },
     "execution_count": 9,
     "metadata": {},
     "output_type": "execute_result"
    }
   ],
   "source": [
    "df = df.loc[:,[\"runtime\", \"genres\", \"vote_average\", \"release_year\"]]\n",
    "df.head(3)"
   ]
  },
  {
   "cell_type": "markdown",
   "metadata": {},
   "source": [
    "We found out that there are 31 records with runtime = 0. We can change these values to average runtime."
   ]
  },
  {
   "cell_type": "code",
   "execution_count": 10,
   "metadata": {},
   "outputs": [],
   "source": [
    "mean = int(df[\"runtime\"].mean())\n",
    "df[\"runtime\"] = df[\"runtime\"].apply(lambda x: mean if x == 0 else x)"
   ]
  },
  {
   "cell_type": "code",
   "execution_count": 11,
   "metadata": {},
   "outputs": [
    {
     "data": {
      "text/html": [
       "<div>\n",
       "<style scoped>\n",
       "    .dataframe tbody tr th:only-of-type {\n",
       "        vertical-align: middle;\n",
       "    }\n",
       "\n",
       "    .dataframe tbody tr th {\n",
       "        vertical-align: top;\n",
       "    }\n",
       "\n",
       "    .dataframe thead th {\n",
       "        text-align: right;\n",
       "    }\n",
       "</style>\n",
       "<table border=\"1\" class=\"dataframe\">\n",
       "  <thead>\n",
       "    <tr style=\"text-align: right;\">\n",
       "      <th></th>\n",
       "      <th>runtime</th>\n",
       "      <th>vote_average</th>\n",
       "      <th>release_year</th>\n",
       "    </tr>\n",
       "  </thead>\n",
       "  <tbody>\n",
       "    <tr>\n",
       "      <th>count</th>\n",
       "      <td>10865.000000</td>\n",
       "      <td>10865.000000</td>\n",
       "      <td>10865.000000</td>\n",
       "    </tr>\n",
       "    <tr>\n",
       "      <th>mean</th>\n",
       "      <td>102.362816</td>\n",
       "      <td>5.975012</td>\n",
       "      <td>2001.321859</td>\n",
       "    </tr>\n",
       "    <tr>\n",
       "      <th>std</th>\n",
       "      <td>30.904045</td>\n",
       "      <td>0.935138</td>\n",
       "      <td>12.813260</td>\n",
       "    </tr>\n",
       "    <tr>\n",
       "      <th>min</th>\n",
       "      <td>2.000000</td>\n",
       "      <td>1.500000</td>\n",
       "      <td>1960.000000</td>\n",
       "    </tr>\n",
       "    <tr>\n",
       "      <th>25%</th>\n",
       "      <td>90.000000</td>\n",
       "      <td>5.400000</td>\n",
       "      <td>1995.000000</td>\n",
       "    </tr>\n",
       "    <tr>\n",
       "      <th>50%</th>\n",
       "      <td>99.000000</td>\n",
       "      <td>6.000000</td>\n",
       "      <td>2006.000000</td>\n",
       "    </tr>\n",
       "    <tr>\n",
       "      <th>75%</th>\n",
       "      <td>111.000000</td>\n",
       "      <td>6.600000</td>\n",
       "      <td>2011.000000</td>\n",
       "    </tr>\n",
       "    <tr>\n",
       "      <th>max</th>\n",
       "      <td>900.000000</td>\n",
       "      <td>9.200000</td>\n",
       "      <td>2015.000000</td>\n",
       "    </tr>\n",
       "  </tbody>\n",
       "</table>\n",
       "</div>"
      ],
      "text/plain": [
       "            runtime  vote_average  release_year\n",
       "count  10865.000000  10865.000000  10865.000000\n",
       "mean     102.362816      5.975012   2001.321859\n",
       "std       30.904045      0.935138     12.813260\n",
       "min        2.000000      1.500000   1960.000000\n",
       "25%       90.000000      5.400000   1995.000000\n",
       "50%       99.000000      6.000000   2006.000000\n",
       "75%      111.000000      6.600000   2011.000000\n",
       "max      900.000000      9.200000   2015.000000"
      ]
     },
     "execution_count": 11,
     "metadata": {},
     "output_type": "execute_result"
    }
   ],
   "source": [
    "df.describe()"
   ]
  },
  {
   "cell_type": "markdown",
   "metadata": {},
   "source": [
    "Now we are ready for exploring the data."
   ]
  },
  {
   "cell_type": "markdown",
   "metadata": {},
   "source": [
    "<a id='eda'></a>\n",
    "## Exploratory Data Analysis"
   ]
  },
  {
   "cell_type": "code",
   "execution_count": 12,
   "metadata": {},
   "outputs": [],
   "source": [
    "# plot user rating histogram\n",
    "def rating_hist(df1, df2, df3, lbl1, lbl2, lbl3, title):\n",
    "    plt.figure(figsize=(8,6))\n",
    "    plt.hist(df1.vote_average, bins=15, alpha=0.5, label=lbl1)\n",
    "    plt.hist(df2.vote_average, bins=15, alpha=0.5, label=lbl2)\n",
    "    plt.hist(df3.vote_average, bins=15, alpha=0.5, label=lbl3)\n",
    "    plt.legend()\n",
    "    plt.title(title)\n",
    "    plt.xlabel('User Rating')\n",
    "    plt.ylabel('Frequency')\n",
    "    plt.xticks(np.arange(10))"
   ]
  },
  {
   "cell_type": "markdown",
   "metadata": {},
   "source": [
    "### Are long or short movies get higher user rating?"
   ]
  },
  {
   "cell_type": "code",
   "execution_count": 13,
   "metadata": {},
   "outputs": [
    {
     "data": {
      "image/png": "[encoded data removed]",
      "text/plain": [
       "<Figure size 576x432 with 1 Axes>"
      ]
     },
     "metadata": {
      "needs_background": "light"
     },
     "output_type": "display_data"
    }
   ],
   "source": [
    "short = df.query(\"runtime < 70\")\n",
    "mid_len = df.query(\"70 <= runtime <= 90\")\n",
    "long = df.query(\"runtime > 90\")\n",
    "\n",
    "rating_hist(\n",
    "    long,\n",
    "    mid_len,\n",
    "    short,\n",
    "    \"Long (runtime > 90)\",\n",
    "    \"Middle length (70 <= runtime <= 90)\",\n",
    "    \"Short (runtime < 70)\",\n",
    "    \"User rating depending on the length of the movie\"\n",
    ")\n"
   ]
  },
  {
   "cell_type": "markdown",
   "metadata": {},
   "source": [
    "This histogram shows interesting result.\n",
    "In this dataset short movies more likely would get higher user rating and middle length movies less likely."
   ]
  },
  {
   "cell_type": "markdown",
   "metadata": {},
   "source": [
    "### Are old or new movies get higher user rating?"
   ]
  },
  {
   "cell_type": "code",
   "execution_count": 14,
   "metadata": {},
   "outputs": [
    {
     "data": {
      "image/png": "[encoded data removed]",
      "text/plain": [
       "<Figure size 576x432 with 1 Axes>"
      ]
     },
     "metadata": {
      "needs_background": "light"
     },
     "output_type": "display_data"
    }
   ],
   "source": [
    "old = df.query(\"release_year < 2000\")\n",
    "early2000s = df.query(\"2000 <= release_year <= 2010\")\n",
    "new = df.query(\"release_year > 2010\")\n",
    "\n",
    "rating_hist(\n",
    "    old,\n",
    "    early2000s,\n",
    "    new,\n",
    "    \"Before 2000\",\n",
    "    \"2000 - 2010\",\n",
    "    \"After 2010\",\n",
    "    \"User rating depending on release year\"\n",
    ")"
   ]
  },
  {
   "cell_type": "markdown",
   "metadata": {},
   "source": [
    "From this histogram we can see that there is a slight difference in user rating depending on the release year.\n",
    "Older movies got a little bit higher rating and newer movies got lower rating."
   ]
  },
  {
   "cell_type": "markdown",
   "metadata": {},
   "source": [
    "### What genres are the most popular in this dataset?"
   ]
  },
  {
   "cell_type": "markdown",
   "metadata": {},
   "source": [
    "To answer this question, we need to split records with genre into separate records with only one value of genre in each record."
   ]
  },
  {
   "cell_type": "code",
   "execution_count": 15,
   "metadata": {},
   "outputs": [
    {
     "data": {
      "text/html": [
       "<div>\n",
       "<style scoped>\n",
       "    .dataframe tbody tr th:only-of-type {\n",
       "        vertical-align: middle;\n",
       "    }\n",
       "\n",
       "    .dataframe tbody tr th {\n",
       "        vertical-align: top;\n",
       "    }\n",
       "\n",
       "    .dataframe thead th {\n",
       "        text-align: right;\n",
       "    }\n",
       "</style>\n",
       "<table border=\"1\" class=\"dataframe\">\n",
       "  <thead>\n",
       "    <tr style=\"text-align: right;\">\n",
       "      <th></th>\n",
       "      <th>genre</th>\n",
       "      <th>year</th>\n",
       "      <th>vote_average</th>\n",
       "    </tr>\n",
       "  </thead>\n",
       "  <tbody>\n",
       "    <tr>\n",
       "      <th>0</th>\n",
       "      <td>Action</td>\n",
       "      <td>2015</td>\n",
       "      <td>6.5</td>\n",
       "    </tr>\n",
       "    <tr>\n",
       "      <th>1</th>\n",
       "      <td>Adventure</td>\n",
       "      <td>2015</td>\n",
       "      <td>6.5</td>\n",
       "    </tr>\n",
       "    <tr>\n",
       "      <th>2</th>\n",
       "      <td>Science Fiction</td>\n",
       "      <td>2015</td>\n",
       "      <td>6.5</td>\n",
       "    </tr>\n",
       "    <tr>\n",
       "      <th>3</th>\n",
       "      <td>Thriller</td>\n",
       "      <td>2015</td>\n",
       "      <td>6.5</td>\n",
       "    </tr>\n",
       "    <tr>\n",
       "      <th>4</th>\n",
       "      <td>Action</td>\n",
       "      <td>2015</td>\n",
       "      <td>7.1</td>\n",
       "    </tr>\n",
       "  </tbody>\n",
       "</table>\n",
       "</div>"
      ],
      "text/plain": [
       "             genre  year  vote_average\n",
       "0           Action  2015           6.5\n",
       "1        Adventure  2015           6.5\n",
       "2  Science Fiction  2015           6.5\n",
       "3         Thriller  2015           6.5\n",
       "4           Action  2015           7.1"
      ]
     },
     "execution_count": 15,
     "metadata": {},
     "output_type": "execute_result"
    }
   ],
   "source": [
    "df2 = pd.DataFrame(columns=[\"genre\",\"year\",\"vote_average\"])\n",
    "def append_row(df2, genre, year, vote_avg):\n",
    "    return df2.append({\"genre\": genre, \"year\": year, \"vote_average\": vote_avg}, ignore_index=True)\n",
    "    \n",
    "for row in df.itertuples():\n",
    "    genres = row.genres\n",
    "    year = row.release_year\n",
    "    vote_avg = row.vote_average\n",
    "    if genres is np.nan:\n",
    "        df2 = append_row(df2,\"no info\",year,vote_avg)\n",
    "    else:\n",
    "        for genre in genres.split(\"|\"):\n",
    "            df2 = append_row(df2,genre,year,vote_avg)\n",
    "\n",
    "df2.head()"
   ]
  },
  {
   "cell_type": "code",
   "execution_count": 16,
   "metadata": {},
   "outputs": [],
   "source": [
    "def bar_chart(data, title, xlabel):\n",
    "    plt.figure(figsize=(8,8))\n",
    "    plt.barh(np.arange(len(data)), data, tick_label=data.index)\n",
    "    plt.title(title)\n",
    "    plt.xlabel(xlabel)\n",
    "    plt.ylabel(\"Genre\")"
   ]
  },
  {
   "cell_type": "code",
   "execution_count": 17,
   "metadata": {},
   "outputs": [
    {
     "data": {
      "image/png": "[encoded data removed]",
      "text/plain": [
       "<Figure size 576x576 with 1 Axes>"
      ]
     },
     "metadata": {
      "needs_background": "light"
     },
     "output_type": "display_data"
    }
   ],
   "source": [
    "bar_chart(\n",
    "    df2.genre.value_counts().sort_values(ascending=True),\n",
    "    \"Movies by genre\",\n",
    "    \"Movies\"\n",
    ")"
   ]
  },
  {
   "cell_type": "markdown",
   "metadata": {},
   "source": [
    "From this bar chart we can see that the most popular genre is __Drama__ and the least popular genre is __Western__."
   ]
  },
  {
   "cell_type": "markdown",
   "metadata": {},
   "source": [
    "### What genres are getting higher rating?"
   ]
  },
  {
   "cell_type": "code",
   "execution_count": 18,
   "metadata": {},
   "outputs": [
    {
     "data": {
      "image/png": "[encoded data removed]",
      "text/plain": [
       "<Figure size 576x576 with 1 Axes>"
      ]
     },
     "metadata": {
      "needs_background": "light"
     },
     "output_type": "display_data"
    }
   ],
   "source": [
    "bar_chart(\n",
    "    df2.groupby([\"genre\"]).vote_average.mean().sort_values(ascending=True),\n",
    "    \"Rating by genre\",\n",
    "    \"Rating\"\n",
    ")"
   ]
  },
  {
   "cell_type": "markdown",
   "metadata": {},
   "source": [
    "This chart shows that in this data set Documentaries on average got highest rating and Horror movies got lowest rating. "
   ]
  },
  {
   "cell_type": "markdown",
   "metadata": {},
   "source": [
    "<a id='conclusions'></a>\n",
    "## Conclusions"
   ]
  },
  {
   "cell_type": "markdown",
   "metadata": {},
   "source": [
    "By analyzing this IMDB dataset we found out what kind of movies got higher user rating:  \n",
    "short (with runtime < 70), older (with release year before 2000), documentaries."
   ]
  },
  {
   "cell_type": "code",
   "execution_count": null,
   "metadata": {},
   "outputs": [],
   "source": []
  }
 ],
 "metadata": {
  "kernelspec": {
   "display_name": "Python 3",
   "language": "python",
   "name": "python3"
  },
  "language_info": {
   "codemirror_mode": {
    "name": "ipython",
    "version": 3
   },
   "file_extension": ".py",
   "mimetype": "text/x-python",
   "name": "python",
   "nbconvert_exporter": "python",
   "pygments_lexer": "ipython3",
   "version": "3.7.2"
  }
 },
 "nbformat": 4,
 "nbformat_minor": 2
}
